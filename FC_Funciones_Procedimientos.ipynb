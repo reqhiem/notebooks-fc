{
  "cells": [
    {
      "cell_type": "markdown",
      "metadata": {
        "id": "ZpXdjJqIFkw7"
      },
      "source": [
        "# Funciones y procedimientos\n",
        "\n",
        "Una función es un dispositivo que **agrupa un conjunto de declaraciones** para que puedan ejecutarse más de una vez en un programa: un procedimiento empaquetado invocado por su nombre.\n",
        "\n",
        "```python\n",
        "def nombre_funcion(argumento1, argumento2, ..., argumentoN):\n",
        "  declaraciones\n",
        "```\n",
        "\n",
        "```python\n",
        "def nombre_funcion(argumento1, argumento2, ..., argumentoN):\n",
        "  declaraciones\n",
        "  return value\n",
        "```"
      ]
    },
    {
      "cell_type": "markdown",
      "metadata": {
        "id": "vxa1OYEnkZIl"
      },
      "source": [
        "### Ejemplo"
      ]
    },
    {
      "cell_type": "markdown",
      "metadata": {
        "id": "k70mClloSbjk"
      },
      "source": [
        "Escribir un programa que indique al usuario si el número ingresado es un número primo o no lo es. [Ejercicio 20, práctica 3]\n"
      ]
    },
    {
      "cell_type": "code",
      "execution_count": 21,
      "metadata": {
        "cellView": "form",
        "id": "rbn2rEjn73cs"
      },
      "outputs": [
        {
          "name": "stdout",
          "output_type": "stream",
          "text": [
            "13  es primo\n"
          ]
        }
      ],
      "source": [
        "#@title Programa para saber si un número es primo o no\n",
        "numero = int(input('Ingrese numero: '))\n",
        "\n",
        "es_primo = True\n",
        "for i in range(2, numero):\n",
        "  if numero % i == 0:\n",
        "    es_primo = False\n",
        "    break\n",
        "\n",
        "if(es_primo):\n",
        "  print(numero, ' es primo')\n",
        "else:\n",
        "  print(numero, ' no es primo')"
      ]
    },
    {
      "cell_type": "markdown",
      "metadata": {},
      "source": [
        "### Empaquetado del procedimiento"
      ]
    },
    {
      "cell_type": "code",
      "execution_count": 25,
      "metadata": {
        "id": "lPDBLCTqU9Ps"
      },
      "outputs": [],
      "source": [
        "#@title Procedimiento para saber si un número es primo o no\n",
        "#Entrada: numero (por teclado)\n",
        "#Salida: imprimir en pantalla si el numero es primo o no\n",
        "def programa_primo():\n",
        "  numero = int(input('Ingrese numero: '))\n",
        "\n",
        "  es_primo = True\n",
        "  for i in range(2, numero):\n",
        "    if numero % i == 0:\n",
        "      es_primo = False\n",
        "      break\n",
        "\n",
        "  if(es_primo):\n",
        "    print(numero, ' es primo')\n",
        "  else:\n",
        "    print(numero, ' no es primo')"
      ]
    },
    {
      "cell_type": "code",
      "execution_count": 45,
      "metadata": {},
      "outputs": [
        {
          "data": {
            "text/plain": [
              "function"
            ]
          },
          "execution_count": 45,
          "metadata": {},
          "output_type": "execute_result"
        }
      ],
      "source": [
        "type(programa_primo)"
      ]
    },
    {
      "cell_type": "markdown",
      "metadata": {},
      "source": [
        "### Llamada del procedimiento"
      ]
    },
    {
      "cell_type": "code",
      "execution_count": 26,
      "metadata": {},
      "outputs": [
        {
          "name": "stdout",
          "output_type": "stream",
          "text": [
            "14  no es primo\n"
          ]
        }
      ],
      "source": [
        "programa_primo()"
      ]
    },
    {
      "cell_type": "code",
      "execution_count": null,
      "metadata": {},
      "outputs": [],
      "source": [
        "def programa_primo(numero):\n",
        "  es_primo = True\n",
        "  for i in range(2, numero):\n",
        "    if numero % i == 0:\n",
        "      es_primo = False\n",
        "      break\n",
        "\n",
        "  if(es_primo):\n",
        "    print(numero, ' es primo')\n",
        "  else:\n",
        "    print(numero, ' no es primo')"
      ]
    },
    {
      "cell_type": "code",
      "execution_count": null,
      "metadata": {},
      "outputs": [],
      "source": [
        "programa_primo(7)\n",
        "programa_primo(8)"
      ]
    },
    {
      "cell_type": "markdown",
      "metadata": {},
      "source": [
        "### Definición de la función\n",
        "\n",
        "```python\n",
        "def nombre_funcion(argumento1, argumento2, ..., argumentoN):\n",
        "  declaraciones\n",
        "```"
      ]
    },
    {
      "cell_type": "code",
      "execution_count": 28,
      "metadata": {},
      "outputs": [],
      "source": [
        "def programa_primo(numero):\n",
        "  es_primo = True\n",
        "  for i in range(2, numero):\n",
        "    if numero % i == 0:\n",
        "      es_primo = False\n",
        "      break\n",
        "\n",
        "  return es_primo"
      ]
    },
    {
      "cell_type": "markdown",
      "metadata": {},
      "source": [
        "### Llamada de la función"
      ]
    },
    {
      "cell_type": "code",
      "execution_count": 29,
      "metadata": {},
      "outputs": [
        {
          "data": {
            "text/plain": [
              "True"
            ]
          },
          "execution_count": 29,
          "metadata": {},
          "output_type": "execute_result"
        }
      ],
      "source": [
        "programa_primo(7)"
      ]
    },
    {
      "cell_type": "code",
      "execution_count": 30,
      "metadata": {},
      "outputs": [
        {
          "data": {
            "text/plain": [
              "False"
            ]
          },
          "execution_count": 30,
          "metadata": {},
          "output_type": "execute_result"
        }
      ],
      "source": [
        "programa_primo(8)"
      ]
    },
    {
      "cell_type": "markdown",
      "metadata": {
        "id": "oWaBz-Qqgt86"
      },
      "source": [
        "Más fundamentalmente, las funciones son una alternativa de **copiar y pegar**. En lugar de tener múltiples copias redundantes del código de una operación, podemos factorizarlo en una sola función."
      ]
    },
    {
      "cell_type": "code",
      "execution_count": 31,
      "metadata": {
        "colab": {
          "base_uri": "https://localhost:8080/"
        },
        "id": "rhYNsUMzBh0s",
        "outputId": "0390dede-7475-4c97-c88f-7e11fad3cc9c"
      },
      "outputs": [
        {
          "name": "stdout",
          "output_type": "stream",
          "text": [
            "Hola Pedro\n",
            "Hola María\n",
            "Hola Juan\n"
          ]
        }
      ],
      "source": [
        "#@title Programa para saludar a Pedro, María y Juan\n",
        "print(\"Hola Pedro\")\n",
        "print(\"Hola María\")\n",
        "print(\"Hola Juan\")\n",
        "  "
      ]
    },
    {
      "cell_type": "code",
      "execution_count": 32,
      "metadata": {
        "colab": {
          "base_uri": "https://localhost:8080/"
        },
        "id": "00ZvykMOB-jx",
        "outputId": "dbbde973-ffc9-4f7b-aa8f-54a550dc97c8"
      },
      "outputs": [
        {
          "name": "stdout",
          "output_type": "stream",
          "text": [
            "Hola Pedro\n",
            "Hola María\n",
            "Hola Juan\n",
            "Hola Gerardo\n",
            "Hola Eduardo\n",
            "Hola Erick\n",
            "Hola Elena\n",
            "Hola José\n",
            "Hola Alan\n"
          ]
        }
      ],
      "source": [
        "#@title Programa para saludar a todo el salón\n",
        "print(\"Hola Pedro\")\n",
        "print(\"Hola María\")\n",
        "print(\"Hola Juan\")\n",
        "print(\"Hola Gerardo\")\n",
        "print(\"Hola Eduardo\")\n",
        "print(\"Hola Erick\")\n",
        "print(\"Hola Elena\")\n",
        "print(\"Hola José\")\n",
        "print(\"Hola Alan\")"
      ]
    },
    {
      "cell_type": "code",
      "execution_count": 37,
      "metadata": {
        "id": "z7Wu6u5SCm_j"
      },
      "outputs": [],
      "source": [
        "#definir la función saludar\n",
        "#input: nombre\n",
        "#salida: Hola + nombre\n",
        "\n",
        "def saludar(nombre):\n",
        "  print(\"Hola \", nombre)"
      ]
    },
    {
      "cell_type": "code",
      "execution_count": 38,
      "metadata": {
        "id": "OI7qseLRC58e"
      },
      "outputs": [
        {
          "name": "stdout",
          "output_type": "stream",
          "text": [
            "Hola  Pedro\n",
            "Hola  María\n",
            "Hola  Juan\n",
            "Hola  Gerardo\n",
            "Hola  Eduardo\n",
            "Hola  Erick\n",
            "Hola  Elena\n",
            "Hola  José\n",
            "Hola  Alan\n"
          ]
        }
      ],
      "source": [
        "#usar la función saludar con todos los alumnos\n",
        "allumnos = ['Pedro', 'María', 'Juan', 'Gerardo', 'Eduardo', 'Erick', 'Elena', 'José', 'Alan']\n",
        "for alumno in allumnos:\n",
        "  saludar(alumno)"
      ]
    },
    {
      "cell_type": "code",
      "execution_count": null,
      "metadata": {
        "id": "vDrDLhdDgxWK"
      },
      "outputs": [],
      "source": [
        "frutas = [\"Manzana\", \"Pera\", \"Fresa\", \"Mandarina\", \"Piña\"]\n",
        "\n",
        "for fruta in frutas:\n",
        "  print(fruta)"
      ]
    },
    {
      "cell_type": "code",
      "execution_count": null,
      "metadata": {
        "id": "7Rgylo1NhGFg"
      },
      "outputs": [],
      "source": [
        "edades = [21, 23, 12, 17, 15, 18]\n",
        "\n",
        "for edad in edades:\n",
        "  print(edad)"
      ]
    },
    {
      "cell_type": "code",
      "execution_count": null,
      "metadata": {
        "id": "F42_xcvMhYp2"
      },
      "outputs": [],
      "source": [
        "def imprimir_array(lista):\n",
        "  for elemento in lista:\n",
        "    print(elemento)"
      ]
    },
    {
      "cell_type": "code",
      "execution_count": null,
      "metadata": {
        "id": "vWtAjisGhwva"
      },
      "outputs": [],
      "source": [
        "imprimir_array(frutas)"
      ]
    },
    {
      "cell_type": "code",
      "execution_count": null,
      "metadata": {
        "id": "rHvHVSfzh1fU"
      },
      "outputs": [],
      "source": [
        "imprimir_array(edades)"
      ]
    },
    {
      "cell_type": "markdown",
      "metadata": {
        "id": "GtmLo3NwvyjK"
      },
      "source": [
        "Implementar una función que genere la sumatoria de los N primeros términos de la siguiente serie: \n",
        "\n",
        "1 + 12 + 123 + 1234 + 12345 + ...\n",
        "\n",
        "*Diálogo ejemplo:*\n",
        "\n",
        "N? 3\n",
        "\n",
        "Sumatoria de los 3 primeros términos = 136"
      ]
    },
    {
      "cell_type": "code",
      "execution_count": 39,
      "metadata": {
        "colab": {
          "base_uri": "https://localhost:8080/"
        },
        "id": "yiTsyRq5vx6C",
        "outputId": "d66ba02d-da2e-4690-d866-ded36eca58b9"
      },
      "outputs": [
        {
          "name": "stdout",
          "output_type": "stream",
          "text": [
            "Sumatoria de los 3 primeros términos =  1370\n"
          ]
        }
      ],
      "source": [
        "N = int(input(\"N? \"))\n",
        "\n",
        "suma = 0\n",
        "for i in range(1,N+1):\n",
        "  num = \"\"\n",
        "  for j in range(1,i+1):\n",
        "    num += str(j)\n",
        "  suma += int(num)\n",
        "print(\"Sumatoria de los 3 primeros términos = \", suma)"
      ]
    },
    {
      "cell_type": "code",
      "execution_count": 40,
      "metadata": {},
      "outputs": [],
      "source": [
        "def sumatoria(N):\n",
        "  suma = 0\n",
        "  for i in range(1,N+1):\n",
        "    num = \"\"\n",
        "    for j in range(1,i+1):\n",
        "      num += str(j)\n",
        "    suma += int(num)\n",
        "  return suma"
      ]
    },
    {
      "cell_type": "code",
      "execution_count": 41,
      "metadata": {},
      "outputs": [
        {
          "name": "stdout",
          "output_type": "stream",
          "text": [
            "Sumatoria de los 3 primeros términos =  136\n"
          ]
        }
      ],
      "source": [
        "N = int(input(\"N? \"))\n",
        "print(\"Sumatoria de los 3 primeros términos = \", sumatoria(N))"
      ]
    },
    {
      "cell_type": "code",
      "execution_count": 42,
      "metadata": {
        "colab": {
          "base_uri": "https://localhost:8080/"
        },
        "id": "yQ82eazZBLB9",
        "outputId": "ed9aeb1e-2485-4ade-e4e5-2a70573f3481"
      },
      "outputs": [
        {
          "name": "stdout",
          "output_type": "stream",
          "text": [
            "Hola mundo!\n"
          ]
        }
      ],
      "source": [
        "print(\"Hola mundo!\")"
      ]
    },
    {
      "cell_type": "code",
      "execution_count": 43,
      "metadata": {
        "id": "KAP0Z0ZPBQYv"
      },
      "outputs": [],
      "source": [
        "def hola_mundo():\n",
        "  print(\"Hola mundo!\")"
      ]
    },
    {
      "cell_type": "code",
      "execution_count": 44,
      "metadata": {
        "colab": {
          "base_uri": "https://localhost:8080/"
        },
        "id": "5BRKfpSnBVWe",
        "outputId": "9e07e820-bb4b-4a7a-d0b6-71dc69eb8502"
      },
      "outputs": [
        {
          "name": "stdout",
          "output_type": "stream",
          "text": [
            "Hola mundo!\n"
          ]
        }
      ],
      "source": [
        "hola_mundo()"
      ]
    },
    {
      "cell_type": "code",
      "execution_count": null,
      "metadata": {
        "id": "7Sy0KFjXBed2"
      },
      "outputs": [],
      "source": []
    }
  ],
  "metadata": {
    "colab": {
      "name": "FC_Funciones_Procedimientos.ipynb",
      "provenance": [],
      "toc_visible": true
    },
    "interpreter": {
      "hash": "81794d4967e6c3204c66dcd87b604927b115b27c00565d3d43f05ba2f3a2cb0d"
    },
    "kernelspec": {
      "display_name": "Python 3.9.5 64-bit",
      "language": "python",
      "name": "python3"
    },
    "language_info": {
      "codemirror_mode": {
        "name": "ipython",
        "version": 3
      },
      "file_extension": ".py",
      "mimetype": "text/x-python",
      "name": "python",
      "nbconvert_exporter": "python",
      "pygments_lexer": "ipython3",
      "version": "3.9.5"
    }
  },
  "nbformat": 4,
  "nbformat_minor": 0
}
